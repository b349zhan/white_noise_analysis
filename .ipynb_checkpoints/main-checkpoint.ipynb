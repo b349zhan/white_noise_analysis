{
 "cells": [
  {
   "cell_type": "code",
   "execution_count": 1,
   "id": "9dccd7be",
   "metadata": {},
   "outputs": [],
   "source": [
    "import torch\n",
    "from utils.loader import get_loader\n",
    "from utils.trainModel import train_model "
   ]
  },
  {
   "cell_type": "code",
   "execution_count": 2,
   "id": "9945134c",
   "metadata": {},
   "outputs": [
    {
     "data": {
      "text/plain": [
       "False"
      ]
     },
     "execution_count": 2,
     "metadata": {},
     "output_type": "execute_result"
    }
   ],
   "source": [
    "cuda = torch.cuda.is_available()\n",
    "device = torch.device(\"cuda\" if cuda else \"cpu\")\n",
    "save_path = 'cachedModels'\n",
    "cuda"
   ]
  },
  {
   "cell_type": "code",
   "execution_count": 3,
   "id": "72f2e39e",
   "metadata": {},
   "outputs": [],
   "source": [
    "import torchvision.transforms as transforms\n",
    "dataset_name = \"MNIST\"\n",
    "train_loader, test_loader = get_loader(dataset_name, transforms.ToTensor(), cuda, False)"
   ]
  },
  {
   "cell_type": "code",
   "execution_count": null,
   "id": "c450a454",
   "metadata": {},
   "outputs": [
    {
     "name": "stdout",
     "output_type": "stream",
     "text": [
      " Train Epoch: 1/15 [12864/60000 (21%)]\tLoss: 0.188784"
     ]
    }
   ],
   "source": [
    "train_model(\"model1\",train_loader, test_loader,save_path,cuda,dataset_name,)"
   ]
  }
 ],
 "metadata": {
  "kernelspec": {
   "display_name": "Python [conda env:python-env] *",
   "language": "python",
   "name": "conda-env-python-env-py"
  },
  "language_info": {
   "codemirror_mode": {
    "name": "ipython",
    "version": 3
   },
   "file_extension": ".py",
   "mimetype": "text/x-python",
   "name": "python",
   "nbconvert_exporter": "python",
   "pygments_lexer": "ipython3",
   "version": "3.8.12"
  }
 },
 "nbformat": 4,
 "nbformat_minor": 5
}
