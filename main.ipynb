{
 "cells": [
  {
   "cell_type": "code",
   "execution_count": 1,
   "id": "cee4e6a5",
   "metadata": {},
   "outputs": [],
   "source": [
    "import torch\n",
    "from utils.loader import get_loader\n",
    "from utils.trainModel import train_model "
   ]
  },
  {
   "cell_type": "code",
   "execution_count": 2,
   "id": "c7b5393b",
   "metadata": {},
   "outputs": [
    {
     "data": {
      "text/plain": [
       "False"
      ]
     },
     "execution_count": 2,
     "metadata": {},
     "output_type": "execute_result"
    }
   ],
   "source": [
    "cuda = torch.cuda.is_available()\n",
    "device = torch.device(\"cuda\" if cuda else \"cpu\")\n",
    "save_path = 'cachedModels'\n",
    "cuda"
   ]
  },
  {
   "cell_type": "code",
   "execution_count": 3,
   "id": "11e367c4",
   "metadata": {},
   "outputs": [],
   "source": [
    "import torchvision.transforms as transforms\n",
    "dataset_name = \"MNIST\"\n",
    "train_loader, test_loader = get_loader(dataset_name, transforms.ToTensor(), cuda, False)"
   ]
  },
  {
   "cell_type": "code",
   "execution_count": 5,
   "id": "2d841431",
   "metadata": {},
   "outputs": [
    {
     "name": "stdout",
     "output_type": "stream",
     "text": [
      " Best model saved.[57664/60000 (96%)]\tLoss: 0.090152\n",
      " Train Epoch: 1/5 [60000/60000 (100%)]\tLoss: 0.015884\t Test Accuracy: 98.1900%\n",
      " Best model saved.[57664/60000 (96%)]\tLoss: 0.048105\n",
      " Train Epoch: 2/5 [60000/60000 (100%)]\tLoss: 0.098432\t Test Accuracy: 98.5800%\n",
      " Train Epoch: 3/5 [60000/60000 (100%)]\tLoss: 0.011073\t Test Accuracy: 98.3900%\n",
      " Best model saved.[57664/60000 (96%)]\tLoss: 0.009922\n",
      " Train Epoch: 4/5 [60000/60000 (100%)]\tLoss: 0.008510\t Test Accuracy: 98.9500%\n",
      " Train Epoch: 5/5 [60000/60000 (100%)]\tLoss: 0.000486\t Test Accuracy: 98.5900%\n"
     ]
    }
   ],
   "source": [
    "train_model(\"model1\",train_loader, test_loader,save_path,cuda,dataset_name,EPOCHS = 5)"
   ]
  }
 ],
 "metadata": {
  "kernelspec": {
   "display_name": "Python [conda env:python-env] *",
   "language": "python",
   "name": "conda-env-python-env-py"
  },
  "language_info": {
   "codemirror_mode": {
    "name": "ipython",
    "version": 3
   },
   "file_extension": ".py",
   "mimetype": "text/x-python",
   "name": "python",
   "nbconvert_exporter": "python",
   "pygments_lexer": "ipython3",
   "version": "3.8.12"
  }
 },
 "nbformat": 4,
 "nbformat_minor": 5
}
